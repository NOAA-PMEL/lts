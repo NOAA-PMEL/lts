{
 "cells": [
  {
   "cell_type": "code",
   "execution_count": 1,
   "metadata": {
    "collapsed": true,
    "pycharm": {
     "name": "#%%\n"
    }
   },
   "outputs": [],
   "source": [
    "import pandas as pd\n",
    "from plotly.subplots import make_subplots\n",
    "import plotly.graph_objects as go"
   ]
  },
  {
   "cell_type": "code",
   "execution_count": 10,
   "outputs": [],
   "source": [
    "kurl='http://dunkel.pmel.noaa.gov:8336/erddap/tabledap/KEO_fcf7_f662_8513'\n",
    "rurl='https://dunkel.pmel.noaa.gov:8930/erddap/tabledap/keo_hourly_temp'\n",
    "variables = 'TEMP,PRES,time,latitude,longitude,depth'\n",
    "start = '2022-05-01T00:00:00Z'\n",
    "end   = '2022-05-01T01:00:00Z'\n",
    "tcon = '&time>=' + start + '&time<' + end\n",
    "ending = '.csv?' + variables + tcon + '&orderBy(\"time,depth\")'\n",
    "kdata_url = kurl + ending\n",
    "rdata_url = rurl + ending"
   ],
   "metadata": {
    "collapsed": false,
    "pycharm": {
     "name": "#%%\n"
    }
   }
  },
  {
   "cell_type": "code",
   "execution_count": 13,
   "outputs": [
    {
     "data": {
      "text/plain": "        TEMP  PRES                  time  latitude  longitude  depth\n0     19.316   1.0  2022-05-01T00:00:00Z      32.3      144.6    1.0\n1     19.310   1.0  2022-05-01T00:00:00Z      32.3      144.6    1.0\n2        NaN   1.0  2022-05-01T00:00:00Z      32.3      144.6    1.0\n3     19.320   1.0  2022-05-01T00:00:00Z      32.3      144.6    1.0\n4        NaN   1.0  2022-05-01T00:00:00Z      32.3      144.6    1.0\n...      ...   ...                   ...       ...        ...    ...\n1019  15.590   NaN  2022-05-01T00:00:00Z      32.3      144.6  525.0\n1020     NaN   NaN  2022-05-01T00:00:00Z      32.3      144.6  525.0\n1021  14.200   NaN  2022-05-01T00:00:00Z      32.3      144.6  525.0\n1022     NaN   NaN  2022-05-01T00:00:00Z      32.3      144.6  525.0\n1023     NaN   NaN  2022-05-01T00:00:00Z      32.3      144.6  525.0\n\n[1024 rows x 6 columns]",
      "text/html": "<div>\n<style scoped>\n    .dataframe tbody tr th:only-of-type {\n        vertical-align: middle;\n    }\n\n    .dataframe tbody tr th {\n        vertical-align: top;\n    }\n\n    .dataframe thead th {\n        text-align: right;\n    }\n</style>\n<table border=\"1\" class=\"dataframe\">\n  <thead>\n    <tr style=\"text-align: right;\">\n      <th></th>\n      <th>TEMP</th>\n      <th>PRES</th>\n      <th>time</th>\n      <th>latitude</th>\n      <th>longitude</th>\n      <th>depth</th>\n    </tr>\n  </thead>\n  <tbody>\n    <tr>\n      <th>0</th>\n      <td>19.316</td>\n      <td>1.0</td>\n      <td>2022-05-01T00:00:00Z</td>\n      <td>32.3</td>\n      <td>144.6</td>\n      <td>1.0</td>\n    </tr>\n    <tr>\n      <th>1</th>\n      <td>19.310</td>\n      <td>1.0</td>\n      <td>2022-05-01T00:00:00Z</td>\n      <td>32.3</td>\n      <td>144.6</td>\n      <td>1.0</td>\n    </tr>\n    <tr>\n      <th>2</th>\n      <td>NaN</td>\n      <td>1.0</td>\n      <td>2022-05-01T00:00:00Z</td>\n      <td>32.3</td>\n      <td>144.6</td>\n      <td>1.0</td>\n    </tr>\n    <tr>\n      <th>3</th>\n      <td>19.320</td>\n      <td>1.0</td>\n      <td>2022-05-01T00:00:00Z</td>\n      <td>32.3</td>\n      <td>144.6</td>\n      <td>1.0</td>\n    </tr>\n    <tr>\n      <th>4</th>\n      <td>NaN</td>\n      <td>1.0</td>\n      <td>2022-05-01T00:00:00Z</td>\n      <td>32.3</td>\n      <td>144.6</td>\n      <td>1.0</td>\n    </tr>\n    <tr>\n      <th>...</th>\n      <td>...</td>\n      <td>...</td>\n      <td>...</td>\n      <td>...</td>\n      <td>...</td>\n      <td>...</td>\n    </tr>\n    <tr>\n      <th>1019</th>\n      <td>15.590</td>\n      <td>NaN</td>\n      <td>2022-05-01T00:00:00Z</td>\n      <td>32.3</td>\n      <td>144.6</td>\n      <td>525.0</td>\n    </tr>\n    <tr>\n      <th>1020</th>\n      <td>NaN</td>\n      <td>NaN</td>\n      <td>2022-05-01T00:00:00Z</td>\n      <td>32.3</td>\n      <td>144.6</td>\n      <td>525.0</td>\n    </tr>\n    <tr>\n      <th>1021</th>\n      <td>14.200</td>\n      <td>NaN</td>\n      <td>2022-05-01T00:00:00Z</td>\n      <td>32.3</td>\n      <td>144.6</td>\n      <td>525.0</td>\n    </tr>\n    <tr>\n      <th>1022</th>\n      <td>NaN</td>\n      <td>NaN</td>\n      <td>2022-05-01T00:00:00Z</td>\n      <td>32.3</td>\n      <td>144.6</td>\n      <td>525.0</td>\n    </tr>\n    <tr>\n      <th>1023</th>\n      <td>NaN</td>\n      <td>NaN</td>\n      <td>2022-05-01T00:00:00Z</td>\n      <td>32.3</td>\n      <td>144.6</td>\n      <td>525.0</td>\n    </tr>\n  </tbody>\n</table>\n<p>1024 rows × 6 columns</p>\n</div>"
     },
     "execution_count": 13,
     "metadata": {},
     "output_type": "execute_result"
    }
   ],
   "source": [
    "kdf = pd.read_csv(kdata_url, skiprows=[1])\n",
    "kdf"
   ],
   "metadata": {
    "collapsed": false,
    "pycharm": {
     "name": "#%%\n"
    }
   }
  },
  {
   "cell_type": "code",
   "execution_count": 14,
   "outputs": [
    {
     "data": {
      "text/plain": "      TEMP        PRES                  time  latitude  longitude  depth\n0   19.316    1.000000  2022-05-01T00:00:00Z      32.3      144.6    1.0\n1   19.310    5.071795  2022-05-01T00:00:00Z      32.3      144.6    5.0\n2      NaN         NaN  2022-05-01T00:00:00Z      32.3      144.6    8.0\n3   19.320   10.161538  2022-05-01T00:00:00Z      32.3      144.6   10.0\n4      NaN   15.251282  2022-05-01T00:00:00Z      32.3      144.6   15.0\n5      NaN         NaN  2022-05-01T00:00:00Z      32.3      144.6   18.0\n6      NaN   20.341026  2022-05-01T00:00:00Z      32.3      144.6   20.0\n7   19.330   25.430770  2022-05-01T00:00:00Z      32.3      144.6   25.0\n8   19.330   35.610256  2022-05-01T00:00:00Z      32.3      144.6   35.0\n9      NaN         NaN  2022-05-01T00:00:00Z      32.3      144.6   38.0\n10  19.330   40.700000  2022-05-01T00:00:00Z      32.3      144.6   40.0\n11  19.320   50.700000  2022-05-01T00:00:00Z      32.3      144.6   50.0\n12  18.470   74.800000  2022-05-01T00:00:00Z      32.3      144.6   75.0\n13  17.800   99.300000  2022-05-01T00:00:00Z      32.3      144.6  100.0\n14     NaN         NaN  2022-05-01T00:00:00Z      32.3      144.6  105.0\n15  17.350  123.100000  2022-05-01T00:00:00Z      32.3      144.6  125.0\n16  17.180  146.800000  2022-05-01T00:00:00Z      32.3      144.6  150.0\n17  17.020  174.000000  2022-05-01T00:00:00Z      32.3      144.6  175.0\n18     NaN         NaN  2022-05-01T00:00:00Z      32.3      144.6  200.0\n19  16.860  221.500000  2022-05-01T00:00:00Z      32.3      144.6  225.0\n20     NaN         NaN  2022-05-01T00:00:00Z      32.3      144.6  250.0\n21  16.740  269.000000  2022-05-01T00:00:00Z      32.3      144.6  275.0\n22     NaN         NaN  2022-05-01T00:00:00Z      32.3      144.6  300.0\n23  16.600  318.500000  2022-05-01T00:00:00Z      32.3      144.6  325.0\n24     NaN         NaN  2022-05-01T00:00:00Z      32.3      144.6  350.0\n25  16.270  366.300000  2022-05-01T00:00:00Z      32.3      144.6  375.0\n26     NaN         NaN  2022-05-01T00:00:00Z      32.3      144.6  400.0\n27  15.590  411.600000  2022-05-01T00:00:00Z      32.3      144.6  425.0\n28     NaN         NaN  2022-05-01T00:00:00Z      32.3      144.6  450.0\n29  14.200  456.800000  2022-05-01T00:00:00Z      32.3      144.6  475.0\n30     NaN         NaN  2022-05-01T00:00:00Z      32.3      144.6  500.0\n31     NaN         NaN  2022-05-01T00:00:00Z      32.3      144.6  525.0",
      "text/html": "<div>\n<style scoped>\n    .dataframe tbody tr th:only-of-type {\n        vertical-align: middle;\n    }\n\n    .dataframe tbody tr th {\n        vertical-align: top;\n    }\n\n    .dataframe thead th {\n        text-align: right;\n    }\n</style>\n<table border=\"1\" class=\"dataframe\">\n  <thead>\n    <tr style=\"text-align: right;\">\n      <th></th>\n      <th>TEMP</th>\n      <th>PRES</th>\n      <th>time</th>\n      <th>latitude</th>\n      <th>longitude</th>\n      <th>depth</th>\n    </tr>\n  </thead>\n  <tbody>\n    <tr>\n      <th>0</th>\n      <td>19.316</td>\n      <td>1.000000</td>\n      <td>2022-05-01T00:00:00Z</td>\n      <td>32.3</td>\n      <td>144.6</td>\n      <td>1.0</td>\n    </tr>\n    <tr>\n      <th>1</th>\n      <td>19.310</td>\n      <td>5.071795</td>\n      <td>2022-05-01T00:00:00Z</td>\n      <td>32.3</td>\n      <td>144.6</td>\n      <td>5.0</td>\n    </tr>\n    <tr>\n      <th>2</th>\n      <td>NaN</td>\n      <td>NaN</td>\n      <td>2022-05-01T00:00:00Z</td>\n      <td>32.3</td>\n      <td>144.6</td>\n      <td>8.0</td>\n    </tr>\n    <tr>\n      <th>3</th>\n      <td>19.320</td>\n      <td>10.161538</td>\n      <td>2022-05-01T00:00:00Z</td>\n      <td>32.3</td>\n      <td>144.6</td>\n      <td>10.0</td>\n    </tr>\n    <tr>\n      <th>4</th>\n      <td>NaN</td>\n      <td>15.251282</td>\n      <td>2022-05-01T00:00:00Z</td>\n      <td>32.3</td>\n      <td>144.6</td>\n      <td>15.0</td>\n    </tr>\n    <tr>\n      <th>5</th>\n      <td>NaN</td>\n      <td>NaN</td>\n      <td>2022-05-01T00:00:00Z</td>\n      <td>32.3</td>\n      <td>144.6</td>\n      <td>18.0</td>\n    </tr>\n    <tr>\n      <th>6</th>\n      <td>NaN</td>\n      <td>20.341026</td>\n      <td>2022-05-01T00:00:00Z</td>\n      <td>32.3</td>\n      <td>144.6</td>\n      <td>20.0</td>\n    </tr>\n    <tr>\n      <th>7</th>\n      <td>19.330</td>\n      <td>25.430770</td>\n      <td>2022-05-01T00:00:00Z</td>\n      <td>32.3</td>\n      <td>144.6</td>\n      <td>25.0</td>\n    </tr>\n    <tr>\n      <th>8</th>\n      <td>19.330</td>\n      <td>35.610256</td>\n      <td>2022-05-01T00:00:00Z</td>\n      <td>32.3</td>\n      <td>144.6</td>\n      <td>35.0</td>\n    </tr>\n    <tr>\n      <th>9</th>\n      <td>NaN</td>\n      <td>NaN</td>\n      <td>2022-05-01T00:00:00Z</td>\n      <td>32.3</td>\n      <td>144.6</td>\n      <td>38.0</td>\n    </tr>\n    <tr>\n      <th>10</th>\n      <td>19.330</td>\n      <td>40.700000</td>\n      <td>2022-05-01T00:00:00Z</td>\n      <td>32.3</td>\n      <td>144.6</td>\n      <td>40.0</td>\n    </tr>\n    <tr>\n      <th>11</th>\n      <td>19.320</td>\n      <td>50.700000</td>\n      <td>2022-05-01T00:00:00Z</td>\n      <td>32.3</td>\n      <td>144.6</td>\n      <td>50.0</td>\n    </tr>\n    <tr>\n      <th>12</th>\n      <td>18.470</td>\n      <td>74.800000</td>\n      <td>2022-05-01T00:00:00Z</td>\n      <td>32.3</td>\n      <td>144.6</td>\n      <td>75.0</td>\n    </tr>\n    <tr>\n      <th>13</th>\n      <td>17.800</td>\n      <td>99.300000</td>\n      <td>2022-05-01T00:00:00Z</td>\n      <td>32.3</td>\n      <td>144.6</td>\n      <td>100.0</td>\n    </tr>\n    <tr>\n      <th>14</th>\n      <td>NaN</td>\n      <td>NaN</td>\n      <td>2022-05-01T00:00:00Z</td>\n      <td>32.3</td>\n      <td>144.6</td>\n      <td>105.0</td>\n    </tr>\n    <tr>\n      <th>15</th>\n      <td>17.350</td>\n      <td>123.100000</td>\n      <td>2022-05-01T00:00:00Z</td>\n      <td>32.3</td>\n      <td>144.6</td>\n      <td>125.0</td>\n    </tr>\n    <tr>\n      <th>16</th>\n      <td>17.180</td>\n      <td>146.800000</td>\n      <td>2022-05-01T00:00:00Z</td>\n      <td>32.3</td>\n      <td>144.6</td>\n      <td>150.0</td>\n    </tr>\n    <tr>\n      <th>17</th>\n      <td>17.020</td>\n      <td>174.000000</td>\n      <td>2022-05-01T00:00:00Z</td>\n      <td>32.3</td>\n      <td>144.6</td>\n      <td>175.0</td>\n    </tr>\n    <tr>\n      <th>18</th>\n      <td>NaN</td>\n      <td>NaN</td>\n      <td>2022-05-01T00:00:00Z</td>\n      <td>32.3</td>\n      <td>144.6</td>\n      <td>200.0</td>\n    </tr>\n    <tr>\n      <th>19</th>\n      <td>16.860</td>\n      <td>221.500000</td>\n      <td>2022-05-01T00:00:00Z</td>\n      <td>32.3</td>\n      <td>144.6</td>\n      <td>225.0</td>\n    </tr>\n    <tr>\n      <th>20</th>\n      <td>NaN</td>\n      <td>NaN</td>\n      <td>2022-05-01T00:00:00Z</td>\n      <td>32.3</td>\n      <td>144.6</td>\n      <td>250.0</td>\n    </tr>\n    <tr>\n      <th>21</th>\n      <td>16.740</td>\n      <td>269.000000</td>\n      <td>2022-05-01T00:00:00Z</td>\n      <td>32.3</td>\n      <td>144.6</td>\n      <td>275.0</td>\n    </tr>\n    <tr>\n      <th>22</th>\n      <td>NaN</td>\n      <td>NaN</td>\n      <td>2022-05-01T00:00:00Z</td>\n      <td>32.3</td>\n      <td>144.6</td>\n      <td>300.0</td>\n    </tr>\n    <tr>\n      <th>23</th>\n      <td>16.600</td>\n      <td>318.500000</td>\n      <td>2022-05-01T00:00:00Z</td>\n      <td>32.3</td>\n      <td>144.6</td>\n      <td>325.0</td>\n    </tr>\n    <tr>\n      <th>24</th>\n      <td>NaN</td>\n      <td>NaN</td>\n      <td>2022-05-01T00:00:00Z</td>\n      <td>32.3</td>\n      <td>144.6</td>\n      <td>350.0</td>\n    </tr>\n    <tr>\n      <th>25</th>\n      <td>16.270</td>\n      <td>366.300000</td>\n      <td>2022-05-01T00:00:00Z</td>\n      <td>32.3</td>\n      <td>144.6</td>\n      <td>375.0</td>\n    </tr>\n    <tr>\n      <th>26</th>\n      <td>NaN</td>\n      <td>NaN</td>\n      <td>2022-05-01T00:00:00Z</td>\n      <td>32.3</td>\n      <td>144.6</td>\n      <td>400.0</td>\n    </tr>\n    <tr>\n      <th>27</th>\n      <td>15.590</td>\n      <td>411.600000</td>\n      <td>2022-05-01T00:00:00Z</td>\n      <td>32.3</td>\n      <td>144.6</td>\n      <td>425.0</td>\n    </tr>\n    <tr>\n      <th>28</th>\n      <td>NaN</td>\n      <td>NaN</td>\n      <td>2022-05-01T00:00:00Z</td>\n      <td>32.3</td>\n      <td>144.6</td>\n      <td>450.0</td>\n    </tr>\n    <tr>\n      <th>29</th>\n      <td>14.200</td>\n      <td>456.800000</td>\n      <td>2022-05-01T00:00:00Z</td>\n      <td>32.3</td>\n      <td>144.6</td>\n      <td>475.0</td>\n    </tr>\n    <tr>\n      <th>30</th>\n      <td>NaN</td>\n      <td>NaN</td>\n      <td>2022-05-01T00:00:00Z</td>\n      <td>32.3</td>\n      <td>144.6</td>\n      <td>500.0</td>\n    </tr>\n    <tr>\n      <th>31</th>\n      <td>NaN</td>\n      <td>NaN</td>\n      <td>2022-05-01T00:00:00Z</td>\n      <td>32.3</td>\n      <td>144.6</td>\n      <td>525.0</td>\n    </tr>\n  </tbody>\n</table>\n</div>"
     },
     "execution_count": 14,
     "metadata": {},
     "output_type": "execute_result"
    }
   ],
   "source": [
    "rdf = pd.read_csv(rdata_url, skiprows=[1])\n",
    "rdf"
   ],
   "metadata": {
    "collapsed": false,
    "pycharm": {
     "name": "#%%\n"
    }
   }
  }
 ],
 "metadata": {
  "kernelspec": {
   "display_name": "Python 3",
   "language": "python",
   "name": "python3"
  },
  "language_info": {
   "codemirror_mode": {
    "name": "ipython",
    "version": 2
   },
   "file_extension": ".py",
   "mimetype": "text/x-python",
   "name": "python",
   "nbconvert_exporter": "python",
   "pygments_lexer": "ipython2",
   "version": "2.7.6"
  }
 },
 "nbformat": 4,
 "nbformat_minor": 0
}