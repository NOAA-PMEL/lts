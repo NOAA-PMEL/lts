{
 "cells": [
  {
   "cell_type": "code",
   "execution_count": 22,
   "metadata": {
    "collapsed": true,
    "pycharm": {
     "name": "#%%\n"
    }
   },
   "outputs": [],
   "source": [
    "import pandas as pd\n",
    "import plotly.graph_objects as go\n",
    "import plotly.io as pio\n",
    "url = 'https://dunkel.pmel.noaa.gov:8930/erddap/tabledap/keo_hourly_temp.csv?PSAL,PRES,time,site_code,depth&orderByClosest(\"depth,time/33hour\")'"
   ]
  },
  {
   "cell_type": "code",
   "execution_count": 23,
   "outputs": [],
   "source": [
    "read_data = pd.read_csv(url, skiprows=[1])\n",
    "read_data = read_data[read_data['PSAL'].notna()]\n",
    "read_data.loc[:, 'text_time'] = read_data['time'].astype(str)\n",
    "read_data.loc[:, 'time'] = pd.to_datetime(read_data['time'])"
   ],
   "metadata": {
    "collapsed": false,
    "pycharm": {
     "name": "#%%\n"
    }
   }
  },
  {
   "cell_type": "code",
   "execution_count": 26,
   "outputs": [],
   "source": [
    "figure = go.Figure()\n",
    "line_rgb = 'rgba(.04,.04,.04,.2)'\n",
    "read_data['text'] = 'PSAL' + '<br>' + read_data['text_time'] + '<br>' + 'PRES' + '=' + read_data['PRES'].astype(str) + '<br>' + 'PSAL=' + read_data['PSAL'].apply(lambda x: '{0:.2f}'.format(x))\n",
    "trace = go.Scattergl(x=read_data['time'], y=read_data['PRES'],\n",
    "                     connectgaps=False,\n",
    "                     name='PSAL',\n",
    "                     mode='markers',\n",
    "                     hovertext=read_data['text'],\n",
    "                     marker=dict(\n",
    "                         color=read_data['PSAL'],\n",
    "                         colorscale='viridis',\n",
    "                         colorbar=dict(\n",
    "                             title='PSAL'\n",
    "                         )\n",
    "                     ),\n",
    "                     hoverinfo=\"text\",\n",
    "                     hoverlabel=dict(namelength=-1),\n",
    "                     legendgroup=1,\n",
    "                     )\n",
    "figure.add_trace(trace)\n",
    "figure.update_layout(title='PSAL at KEO, sub-sampled every 33 hours')\n",
    "figure.update_xaxes({\n",
    "    'ticklabelmode': 'period',\n",
    "    'showticklabels': True,\n",
    "    'gridcolor': line_rgb,\n",
    "    'zeroline': True,\n",
    "    'zerolinecolor': line_rgb,\n",
    "    'showline': True,\n",
    "    'linewidth': 1,\n",
    "    'linecolor': line_rgb,\n",
    "    'mirror': True})\n",
    "figure.update_yaxes({\n",
    "    'autorange': 'reversed',\n",
    "    'gridcolor': line_rgb,\n",
    "    'zeroline': True,\n",
    "    'zerolinecolor': line_rgb,\n",
    "    'showline': True,\n",
    "    'linewidth': 1,\n",
    "    'linecolor': line_rgb,\n",
    "    'mirror': True})\n",
    "pio.write_image(figure, 'psal.png', scale=1, width=1600)"
   ],
   "metadata": {
    "collapsed": false,
    "pycharm": {
     "name": "#%%\n"
    }
   }
  }
 ],
 "metadata": {
  "kernelspec": {
   "display_name": "Python 3",
   "language": "python",
   "name": "python3"
  },
  "language_info": {
   "codemirror_mode": {
    "name": "ipython",
    "version": 2
   },
   "file_extension": ".py",
   "mimetype": "text/x-python",
   "name": "python",
   "nbconvert_exporter": "python",
   "pygments_lexer": "ipython2",
   "version": "2.7.6"
  }
 },
 "nbformat": 4,
 "nbformat_minor": 0
}