{
 "cells": [
  {
   "cell_type": "code",
   "execution_count": null,
   "metadata": {
    "collapsed": true,
    "pycharm": {
     "name": "#%%\n"
    }
   },
   "outputs": [],
   "source": [
    "import xarray as xr"
   ]
  },
  {
   "cell_type": "code",
   "execution_count": null,
   "outputs": [],
   "source": [
    "data = xr.open_dataset(\"data/OS_KEO_200406_M_TVSMBP_32N145E_hr.nc\")\n",
    "data"
   ],
   "metadata": {
    "collapsed": false,
    "pycharm": {
     "name": "#%%\n"
    }
   }
  },
  {
   "cell_type": "code",
   "execution_count": null,
   "outputs": [],
   "source": [
    "ocean = data.drop_dims(['HEIGHTWIND','HEIGHTAIRT','HEIGHTRELH','HEIGHTRAIN','HEIGHTSW','HEIGHTLW','HEIGHTATMS'])\n",
    "ocean"
   ],
   "metadata": {
    "collapsed": false,
    "pycharm": {
     "name": "#%%\n"
    }
   }
  },
  {
   "cell_type": "code",
   "execution_count": null,
   "outputs": [],
   "source": [
    "psal = ocean.drop_dims(['DEPTEMP','DEPCUR','DEPTH','DEPDEN'])\n",
    "psal = psal.rename(DEPPSAL='DEPTH')\n",
    "psal"
   ],
   "metadata": {
    "collapsed": false,
    "pycharm": {
     "name": "#%%\n"
    }
   }
  },
  {
   "cell_type": "code",
   "execution_count": null,
   "outputs": [],
   "source": [
    "pres = ocean.drop_dims(['DEPTEMP', 'DEPCUR', 'DEPPSAL', 'DEPDEN'])\n",
    "pres"
   ],
   "metadata": {
    "collapsed": false,
    "pycharm": {
     "name": "#%%\n"
    }
   }
  },
  {
   "cell_type": "code",
   "execution_count": null,
   "outputs": [],
   "source": [
    "den = ocean.drop_dims(['DEPTEMP', 'DEPCUR', 'DEPPSAL', 'DEPTH'])\n",
    "den = den.rename(DEPDEN='DEPTH')\n",
    "den"
   ],
   "metadata": {
    "collapsed": false,
    "pycharm": {
     "name": "#%%\n"
    }
   }
  },
  {
   "cell_type": "code",
   "execution_count": null,
   "outputs": [],
   "source": [
    "temp = ocean.drop_dims(['DEPTH','DEPCUR','DEPPSAL','DEPDEN'])\n",
    "temp = temp.rename(DEPTEMP='DEPTH')\n",
    "temp"
   ],
   "metadata": {
    "collapsed": false,
    "pycharm": {
     "name": "#%%\n"
    }
   }
  },
  {
   "cell_type": "code",
   "execution_count": null,
   "outputs": [],
   "source": [
    "cur = ocean.drop_dims(['DEPTH','DEPTEMP','DEPPSAL','DEPDEN'])\n",
    "cur = cur.rename(DEPCUR='DEPTH')\n",
    "cur"
   ],
   "metadata": {
    "collapsed": false,
    "pycharm": {
     "name": "#%%\n"
    }
   }
  },
  {
   "cell_type": "code",
   "execution_count": null,
   "outputs": [],
   "source": [
    "pres_sal_temp_depth = xr.combine_by_coords([pres, psal, temp], combine_attrs='drop_conflicts')\n",
    "pres_sal_temp_depth"
   ],
   "metadata": {
    "collapsed": false,
    "pycharm": {
     "name": "#%%\n"
    }
   }
  },
  {
   "cell_type": "code",
   "execution_count": null,
   "outputs": [],
   "source": [
    "pres_sal_temp_depth.to_netcdf('data/keo_pres_sal_temp_variables.nc')"
   ],
   "metadata": {
    "collapsed": false,
    "pycharm": {
     "name": "#%%\n"
    }
   }
  }
 ],
 "metadata": {
  "kernelspec": {
   "display_name": "Python 3",
   "language": "python",
   "name": "python3"
  },
  "language_info": {
   "codemirror_mode": {
    "name": "ipython",
    "version": 2
   },
   "file_extension": ".py",
   "mimetype": "text/x-python",
   "name": "python",
   "nbconvert_exporter": "python",
   "pygments_lexer": "ipython2",
   "version": "2.7.6"
  }
 },
 "nbformat": 4,
 "nbformat_minor": 0
}
